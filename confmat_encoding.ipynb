{
  "nbformat": 4,
  "nbformat_minor": 0,
  "metadata": {
    "colab": {
      "name": "confmat-encoding.ipynb",
      "provenance": [],
      "collapsed_sections": [
        "_K_4nuxkCZlw",
        "PivC8a65CdEA",
        "vc6yBastEXZq",
        "00bW1DYAyz7e",
        "46k7FzvVdAkl"
      ],
      "machine_shape": "hm",
      "include_colab_link": true
    },
    "kernelspec": {
      "name": "python3",
      "display_name": "Python 3"
    },
    "language_info": {
      "name": "python"
    },
    "accelerator": "GPU",
    "gpuClass": "standard"
  },
  "cells": [
    {
      "cell_type": "markdown",
      "metadata": {
        "id": "view-in-github",
        "colab_type": "text"
      },
      "source": [
        "<a href=\"https://colab.research.google.com/github/akashlevy/RRAM-DNN-Quantized/blob/main/confmat_encoding.ipynb\" target=\"_parent\"><img src=\"https://colab.research.google.com/assets/colab-badge.svg\" alt=\"Open In Colab\"/></a>"
      ]
    },
    {
      "cell_type": "markdown",
      "source": [
        "# **Imports**"
      ],
      "metadata": {
        "id": "_K_4nuxkCZlw"
      }
    },
    {
      "cell_type": "code",
      "source": [
        "import torch\n",
        "import torchvision\n",
        "import torchvision.transforms as transforms\n",
        "import torch.nn as nn\n",
        "import torch.nn.functional as F\n",
        "import torch.optim as optim\n",
        "import torchvision.models as models\n",
        "import os\n",
        "from torch.utils.data import DataLoader\n",
        "import torch.quantization\n",
        "from torch.quantization import QuantStub, DeQuantStub\n",
        "from torch.quantization import *\n",
        "import numpy as np\n",
        "import matplotlib.pyplot as plt\n",
        "import copy\n",
        "import pandas as pd\n",
        "from scipy.sparse import diags\n",
        "from sympy.combinatorics.graycode import gray_to_bin\n",
        "from sympy.combinatorics.graycode import bin_to_gray\n",
        "import itertools \n",
        "import sys"
      ],
      "metadata": {
        "id": "ObsX_vyUSmpx"
      },
      "execution_count": null,
      "outputs": []
    },
    {
      "cell_type": "markdown",
      "source": [
        "# **Helper Functions**"
      ],
      "metadata": {
        "id": "PivC8a65CdEA"
      }
    },
    {
      "cell_type": "markdown",
      "source": [
        "Badness Metric"
      ],
      "metadata": {
        "id": "MRgfZy68CiEi"
      }
    },
    {
      "cell_type": "code",
      "source": [
        "def cm_badness(C, alpha=2):\n",
        "  return sum([abs(i - j)**alpha * c for i, row in enumerate(C) for j, c in enumerate(row)])"
      ],
      "metadata": {
        "id": "QB8k8ECK8YTr"
      },
      "execution_count": null,
      "outputs": []
    },
    {
      "cell_type": "markdown",
      "source": [
        "Generate confmats given encoding scheme."
      ],
      "metadata": {
        "id": "iB9UOXsrCjij"
      }
    },
    {
      "cell_type": "code",
      "source": [
        "def gen_new_conf(conf, swap_list):\n",
        "  C = conf\n",
        "  for index, val in enumerate(swap_list):\n",
        "    if index == val:\n",
        "      continue\n",
        "    C[[index,val]] = C[[val,index]]\n",
        "    C[:,[index,val]] = C[:,[index,val]]\n",
        "  return C"
      ],
      "metadata": {
        "id": "IXL0_H_-azrl"
      },
      "execution_count": null,
      "outputs": []
    },
    {
      "cell_type": "markdown",
      "source": [
        "Sweep different encoding schemes and compute badness scores."
      ],
      "metadata": {
        "id": "bneMDRj5Cpp2"
      }
    },
    {
      "cell_type": "code",
      "source": [
        "def gen_permutations(range):\n",
        "  vals = np.arange(0,range)\n",
        "  permutation = list(itertools.permutations(vals))\n",
        "  return permutation\n",
        "\n",
        "def sweep_enc_confmats(range, init_confmat, num_runs):\n",
        "  runs = {}\n",
        "  \n",
        "  perm_iterator = itertools.permutations(np.arange(0,range))\n",
        "  \n",
        "  for swap_list in itertools.islice(perm_iterator,num_runs):\n",
        "    new_conf = gen_new_conf(init_confmat, list(swap_list))\n",
        "    cm_bad = cm_badness(new_conf)\n",
        "    runs[swap_list] = cm_bad\n",
        "  \n",
        "  return runs\n"
      ],
      "metadata": {
        "id": "dD4FCVeGi77n"
      },
      "execution_count": null,
      "outputs": []
    },
    {
      "cell_type": "markdown",
      "source": [
        "Given ber, bpc, creates full 256x256 confmat and returns an intermediate confmat of given dimension."
      ],
      "metadata": {
        "id": "JUcQzHROCtqi"
      }
    },
    {
      "cell_type": "code",
      "source": [
        "def create_confmats(dim_to_return, bits_per_cell, ber=0.45, enc_scheme=None):\n",
        "  nrows = 2**bits_per_cell\n",
        "  ncols = nrows\n",
        "\n",
        "  offset = [-1, 0, 1]\n",
        "  k = [[ber]*(ncols-1), [1 - 2*ber]*ncols, [ber]*(ncols-1)]\n",
        "\n",
        "  confmat = diags(k,offset).toarray()\n",
        "  confmat[0][0] = 1-ber\n",
        "  confmat[nrows-1][ncols-1] = 1-ber\n",
        "\n",
        "  loop_ctr = 5 - bits_per_cell\n",
        "\n",
        "  confmat_to_return = confmat\n",
        "\n",
        "  while (len(confmat[0]) < 256):\n",
        "    if (enc_scheme is not None):\n",
        "      if (len(confmat[0]) == len(enc_scheme)):\n",
        "        confmat = gen_new_conf(confmat, enc_scheme)\n",
        "\n",
        "    C = np.kron(confmat, confmat)\n",
        "\n",
        "    if(len(C[0]) == dim_to_return):\n",
        "      confmat_to_return = C\n",
        "\n",
        "    confmat = C\n",
        "    \n",
        "  return confmat_to_return"
      ],
      "metadata": {
        "id": "KyAaN-ssy7y4"
      },
      "execution_count": null,
      "outputs": []
    },
    {
      "cell_type": "markdown",
      "source": [
        "Sweep several encoding schemes, find minimum badness score."
      ],
      "metadata": {
        "id": "amYxANv-C8Aj"
      }
    },
    {
      "cell_type": "code",
      "source": [
        "def do_runs(sweep):\n",
        "  mydict = {}\n",
        "  for i in range(sweep):\n",
        "    runs = sweep_enc_confmats(4, confmat2, 200000)\n",
        "\n",
        "    min_val = min(runs.values())\n",
        "    min_enc_scheme = list(runs.keys())[list(runs.values()).index(min_val)]\n",
        "\n",
        "    mydict[min_enc_scheme] = min_val\n",
        "  \n",
        "  return mydict"
      ],
      "metadata": {
        "id": "cdiLSDWcn7d9"
      },
      "execution_count": null,
      "outputs": []
    },
    {
      "cell_type": "markdown",
      "source": [
        "# **Sweep encoding schemes and find minimum badness**"
      ],
      "metadata": {
        "id": "vc6yBastEXZq"
      }
    },
    {
      "cell_type": "code",
      "source": [
        "results = do_runs(25)\n",
        "print(results)\n",
        "min_val = min(results.values())\n",
        "min_enc_scheme = list(results.keys())[list(results.values()).index(min_val)]\n",
        "\n",
        "print(f\"Min Badness: {min_val} and Min Enc Scheme: {min_enc_scheme}\")"
      ],
      "metadata": {
        "colab": {
          "base_uri": "https://localhost:8080/"
        },
        "id": "km6zFp1qyqsW",
        "outputId": "b423f767-b628-4f8a-cbd3-f193f760ee65"
      },
      "execution_count": null,
      "outputs": [
        {
          "output_type": "stream",
          "name": "stdout",
          "text": [
            "{(0, 1, 2, 3): 2.7, (1, 3, 2, 0): 2.7}\n",
            "Min Badness: 2.7 and Min Enc Scheme: (0, 1, 2, 3)\n"
          ]
        }
      ]
    },
    {
      "cell_type": "markdown",
      "source": [
        "# **Gray Code Encoding**"
      ],
      "metadata": {
        "id": "00bW1DYAyz7e"
      }
    },
    {
      "cell_type": "markdown",
      "source": [
        "Use helper functions below to get gray-code encoding on 256x256 matrix"
      ],
      "metadata": {
        "id": "W2YPcXL-Ik0P"
      }
    },
    {
      "cell_type": "code",
      "source": [
        "def dec_to_bin(x):\n",
        "    return int(bin(x)[2:])\n",
        "\n",
        "#given gray code encoding scheme get new confusion matrix\n",
        "def adjust_confmat_with_enc_table(mismatches, C):\n",
        "  #swap rows and cols in confmat\n",
        "\n",
        "  for lst in mismatches:\n",
        "    index0 = lst[0]\n",
        "    index1 = lst[1]\n",
        "\n",
        "    C[[index0,index1]] = C[[index1,index0]]\n",
        "    C[:,[index0,index1]] = C[:,[index1,index0]]\n",
        "  \n",
        "  return C\n",
        "\n",
        "#get table to convert between gray code encoding and decimal \n",
        "def get_gray_to_bin_table(len_range):\n",
        "  dec_range = np.arange(0,len_range)\n",
        "\n",
        "  bin_range = []\n",
        "  gray_range = []\n",
        "  dec_of_gray = []\n",
        "\n",
        "  for i in range(len(dec_range)):\n",
        "    bin_range.append(dec_to_bin(dec_range[i]))\n",
        "    gray_range.append(int(bin_to_gray(str(bin_range[i]))))\n",
        "    dec_of_gray.append(int(str(gray_range[i]),2))\n",
        "\n",
        "  mismatches = []\n",
        "\n",
        "  for i in range(len(dec_range)):\n",
        "    gray_i = dec_of_gray[i]\n",
        "    dec_i = dec_range[i]\n",
        "\n",
        "    if(gray_i != dec_i):\n",
        "      temp_set = set([dec_i, gray_i])\n",
        "      if(temp_set not in mismatches):\n",
        "        mismatches.append(temp_set) \n",
        "\n",
        "  for i in range(len(mismatches)):\n",
        "    mismatches[i] = list(mismatches[i])\n",
        "\n",
        "  return mismatches"
      ],
      "metadata": {
        "id": "l596J_3uUeGy"
      },
      "execution_count": null,
      "outputs": []
    },
    {
      "cell_type": "markdown",
      "source": [
        "Implement gray code encoding"
      ],
      "metadata": {
        "id": "lqXP3YhxIzBM"
      }
    },
    {
      "cell_type": "code",
      "source": [
        "mismatches = get_gray_to_bin_table(256)\n",
        "C_new = adjust_confmat_with_enc_table(mismatches, C)\n",
        "\n",
        "plt.matshow(C_new)\n",
        "\n",
        "print(cm_badness(C_new,alpha=1))\n",
        "plt.colorbar()\n",
        "plt.show()"
      ],
      "metadata": {
        "colab": {
          "base_uri": "https://localhost:8080/",
          "height": 278
        },
        "id": "WlGQpK1w2E1g",
        "outputId": "3101527b-d25f-414a-f41e-8bc318e4ccd5"
      },
      "execution_count": null,
      "outputs": [
        {
          "output_type": "stream",
          "name": "stdout",
          "text": [
            "12138.713887500096\n"
          ]
        },
        {
          "output_type": "display_data",
          "data": {
            "text/plain": [
              "<Figure size 288x288 with 2 Axes>"
            ],
            "image/png": "[encoded data removed]"
          },
          "metadata": {
            "needs_background": "light"
          }
        }
      ]
    },
    {
      "cell_type": "markdown",
      "source": [
        "# **Cell Allocation**\n"
      ],
      "metadata": {
        "id": "46k7FzvVdAkl"
      }
    },
    {
      "cell_type": "markdown",
      "source": [
        "Take binary representation of weights, move around bits, get decimal representation, and create encoding scheme."
      ],
      "metadata": {
        "id": "xsHN-ezRPEhP"
      }
    },
    {
      "cell_type": "code",
      "source": [
        "def bit_encoding_perm(order, nbits=4):\n",
        "  enc_bin = [format(x, 'b').zfill(nbits) for x in list(range(2**nbits))]\n",
        "  enc_bin = [''.join([b[order[i]] for i in range(nbits)]) for b in enc_bin]\n",
        "  enc_bin = [int(x, 2) for x in enc_bin]\n",
        "  return enc_bin\n",
        "\n",
        "perms = itertools.permutations(range(8))\n",
        "\n",
        "min_badness = 20338.093368989536 #13.499999999999993 #20338.093368989536\n",
        "confmat_min = create_confmats(256,2,ber=0.45)\n",
        "min_enc = np.arange(0,8)\n",
        "\n",
        "for perm in perms:\n",
        "  print(perm)\n",
        "  enc = bit_encoding_perm(perm,nbits=8)\n",
        "  # print(enc)\n",
        "\n",
        "  C = create_confmats(256,1,ber=0.45)\n",
        "\n",
        "  C_new = gen_new_conf(C, enc)\n",
        "\n",
        "  if(cm_badness(C_new,alpha = 1) < min_badness):\n",
        "    min_badness = cm_badness(C_new,alpha=1)\n",
        "    confmat_min = C_new\n",
        "    min_enc = min_enc\n",
        "\n",
        "  print(f\"badness 256x256: {cm_badness(C_new, alpha = 1)}, {cm_badness(C_new, alpha = 2)}\\n\")\n",
        "\n",
        "print(min_badness)\n",
        "print(min_enc)\n",
        "\n",
        "plt.matshow(confmat_min)\n",
        "plt.show()"
      ],
      "metadata": {
        "id": "pKSmSLmxNSJp"
      },
      "execution_count": null,
      "outputs": []
    }
  ]
}