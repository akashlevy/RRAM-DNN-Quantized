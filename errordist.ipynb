{
 "cells": [
  {
   "cell_type": "code",
   "execution_count": 11,
   "source": [
    "import numpy as np\n",
    "\n",
    "# Confusion matrix for one RRAM cell (test)\n",
    "CM = [[0.99, 0.01, 0, 0], [0.01, 0.98, 0.01, 0], [0, 0.01, 0.98, 0.01], [0, 0, 0.01, 0.99]]\n",
    "CM = np.array(CM)\n",
    "\n",
    "# Kronecker confusion matrix for two RRAM cells (test)\n",
    "KCM = np.kron(CM, CM)\n",
    "KCM\n",
    "\n",
    "# Error matrix\n",
    "EM = np.array([[i-j for i in range(16)] for j in range(16)])\n",
    "EM\n",
    "\n",
    "# Weight probability matrix\n",
    "WPM = 1/16 * np.ones(16)\n",
    "WPM\n",
    "\n"
   ],
   "outputs": [
    {
     "output_type": "execute_result",
     "data": {
      "text/plain": [
       "array([0.0625, 0.0625, 0.0625, 0.0625, 0.0625, 0.0625, 0.0625, 0.0625,\n",
       "       0.0625, 0.0625, 0.0625, 0.0625, 0.0625, 0.0625, 0.0625, 0.0625])"
      ]
     },
     "metadata": {},
     "execution_count": 11
    }
   ],
   "metadata": {}
  },
  {
   "cell_type": "code",
   "execution_count": null,
   "source": [],
   "outputs": [],
   "metadata": {}
  }
 ],
 "metadata": {
  "orig_nbformat": 4,
  "language_info": {
   "name": "python",
   "version": "3.8.3",
   "mimetype": "text/x-python",
   "codemirror_mode": {
    "name": "ipython",
    "version": 3
   },
   "pygments_lexer": "ipython3",
   "nbconvert_exporter": "python",
   "file_extension": ".py"
  },
  "kernelspec": {
   "name": "python3",
   "display_name": "Python 3.8.3 64-bit ('base': conda)"
  },
  "interpreter": {
   "hash": "f85c0ae1067a86ad6a96b144378883e79fd1516474b579ba33ee3a7084540002"
  }
 },
 "nbformat": 4,
 "nbformat_minor": 2
}