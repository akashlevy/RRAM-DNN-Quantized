{
 "cells": [
  {
   "cell_type": "code",
   "execution_count": 61,
   "source": [
    "import numpy as np\n",
    "import matplotlib.pyplot as plt\n",
    "\n",
    "# Confusion matrix for one RRAM cell (test)\n",
    "CM = [[0.99, 0.01, 0, 0], [0.01, 0.98, 0.01, 0], [0, 0.01, 0.98, 0.01], [0, 0, 0.01, 0.99]]\n",
    "CM = [[0.95, 0.05, 0, 0], [0.05, 0.95, 0, 0], [0, 0, 0.95, 0.05], [0, 0, 0.05, 0.95]]\n",
    "CM = np.array(CM)\n",
    "\n",
    "# Kronecker confusion matrix for two RRAM cells (test)\n",
    "KCM = np.kron(CM, CM)\n",
    "order = [0, 1, 4, 5, 2, 3, 6, 7, 8, 9, 12, 13, 10, 11, 14, 15]\n",
    "KCM = KCM[np.ix_(order, order)]\n",
    "print(KCM)\n",
    "\n",
    "# Weight probability matrix\n",
    "WPM = 1/16 * np.ones(16)\n",
    "WPM\n",
    "\n",
    "# Error distribution matrix\n",
    "EDM = np.zeros((16, 32))\n",
    "for i in range(16):\n",
    "    for j in range(16):\n",
    "        EDM[i][i-j+16] += KCM[i][j]\n",
    "\n",
    "# Error distribution vector with weight probabilities accounted for\n",
    "EDV = np.dot(EDM.T, WPM)\n",
    "\n",
    "# CDF of error distribution\n",
    "CDF = np.cumsum(EDV)\n",
    "plt.plot(np.arange(-16, 16), CDF)\n",
    "\n",
    "variance = np.dot(EDV, np.arange(-16, 16)**2)\n",
    "variance"
   ],
   "outputs": [
    {
     "output_type": "stream",
     "name": "stdout",
     "text": [
      "[[0.9025 0.0475 0.0475 0.0025 0.     0.     0.     0.     0.     0.\n",
      "  0.     0.     0.     0.     0.     0.    ]\n",
      " [0.0475 0.9025 0.0025 0.0475 0.     0.     0.     0.     0.     0.\n",
      "  0.     0.     0.     0.     0.     0.    ]\n",
      " [0.0475 0.0025 0.9025 0.0475 0.     0.     0.     0.     0.     0.\n",
      "  0.     0.     0.     0.     0.     0.    ]\n",
      " [0.0025 0.0475 0.0475 0.9025 0.     0.     0.     0.     0.     0.\n",
      "  0.     0.     0.     0.     0.     0.    ]\n",
      " [0.     0.     0.     0.     0.9025 0.0475 0.0475 0.0025 0.     0.\n",
      "  0.     0.     0.     0.     0.     0.    ]\n",
      " [0.     0.     0.     0.     0.0475 0.9025 0.0025 0.0475 0.     0.\n",
      "  0.     0.     0.     0.     0.     0.    ]\n",
      " [0.     0.     0.     0.     0.0475 0.0025 0.9025 0.0475 0.     0.\n",
      "  0.     0.     0.     0.     0.     0.    ]\n",
      " [0.     0.     0.     0.     0.0025 0.0475 0.0475 0.9025 0.     0.\n",
      "  0.     0.     0.     0.     0.     0.    ]\n",
      " [0.     0.     0.     0.     0.     0.     0.     0.     0.9025 0.0475\n",
      "  0.0475 0.0025 0.     0.     0.     0.    ]\n",
      " [0.     0.     0.     0.     0.     0.     0.     0.     0.0475 0.9025\n",
      "  0.0025 0.0475 0.     0.     0.     0.    ]\n",
      " [0.     0.     0.     0.     0.     0.     0.     0.     0.0475 0.0025\n",
      "  0.9025 0.0475 0.     0.     0.     0.    ]\n",
      " [0.     0.     0.     0.     0.     0.     0.     0.     0.0025 0.0475\n",
      "  0.0475 0.9025 0.     0.     0.     0.    ]\n",
      " [0.     0.     0.     0.     0.     0.     0.     0.     0.     0.\n",
      "  0.     0.     0.9025 0.0475 0.0475 0.0025]\n",
      " [0.     0.     0.     0.     0.     0.     0.     0.     0.     0.\n",
      "  0.     0.     0.0475 0.9025 0.0025 0.0475]\n",
      " [0.     0.     0.     0.     0.     0.     0.     0.     0.     0.\n",
      "  0.     0.     0.0475 0.0025 0.9025 0.0475]\n",
      " [0.     0.     0.     0.     0.     0.     0.     0.     0.     0.\n",
      "  0.     0.     0.0025 0.0475 0.0475 0.9025]]\n"
     ]
    },
    {
     "output_type": "execute_result",
     "data": {
      "text/plain": [
       "0.25"
      ]
     },
     "metadata": {},
     "execution_count": 61
    },
    {
     "output_type": "display_data",
     "data": {
      "image/png": "[encoded data removed]",
      "text/plain": [
       "<Figure size 432x288 with 1 Axes>"
      ]
     },
     "metadata": {
      "needs_background": "light"
     }
    }
   ],
   "metadata": {}
  }
 ],
 "metadata": {
  "orig_nbformat": 4,
  "language_info": {
   "name": "python",
   "version": "3.8.3",
   "mimetype": "text/x-python",
   "codemirror_mode": {
    "name": "ipython",
    "version": 3
   },
   "pygments_lexer": "ipython3",
   "nbconvert_exporter": "python",
   "file_extension": ".py"
  },
  "kernelspec": {
   "name": "python3",
   "display_name": "Python 3.8.3 64-bit ('base': conda)"
  },
  "interpreter": {
   "hash": "f85c0ae1067a86ad6a96b144378883e79fd1516474b579ba33ee3a7084540002"
  }
 },
 "nbformat": 4,
 "nbformat_minor": 2
}