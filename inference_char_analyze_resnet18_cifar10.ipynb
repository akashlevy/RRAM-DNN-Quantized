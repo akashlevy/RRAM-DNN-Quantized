{
  "nbformat": 4,
  "nbformat_minor": 0,
  "metadata": {
    "colab": {
      "name": "inference-char-analyze-resnet18-cifar10",
      "provenance": [],
      "collapsed_sections": [],
      "machine_shape": "hm",
      "include_colab_link": true
    },
    "kernelspec": {
      "name": "python3",
      "display_name": "Python 3"
    },
    "language_info": {
      "name": "python"
    },
    "accelerator": "GPU",
    "gpuClass": "standard"
  },
  "cells": [
    {
      "cell_type": "markdown",
      "metadata": {
        "id": "view-in-github",
        "colab_type": "text"
      },
      "source": [
        "<a href=\"https://colab.research.google.com/github/akashlevy/RRAM-DNN-Quantized/blob/main/inference_char_analyze_resnet18_cifar10.ipynb\" target=\"_parent\"><img src=\"https://colab.research.google.com/assets/colab-badge.svg\" alt=\"Open In Colab\"/></a>"
      ]
    },
    {
      "cell_type": "markdown",
      "source": [
        "# **Imports, data setup**"
      ],
      "metadata": {
        "id": "M8xH6fg1Ax6S"
      }
    },
    {
      "cell_type": "code",
      "execution_count": null,
      "metadata": {
        "id": "fvj04m8eeDlo"
      },
      "outputs": [],
      "source": [
        "import torch\n",
        "import torchvision\n",
        "import torchvision.transforms as transforms\n",
        "import torch.nn as nn\n",
        "import torch.nn.functional as F\n",
        "import torch.optim as optim\n",
        "import torchvision.models as models\n",
        "import os\n",
        "from torch.utils.data import DataLoader\n",
        "import torch.quantization\n",
        "from torch.quantization import QuantStub, DeQuantStub\n",
        "from torch.quantization import *\n",
        "import numpy as np\n",
        "import matplotlib.pyplot as plt\n",
        "import copy\n",
        "import pandas as pd"
      ]
    },
    {
      "cell_type": "code",
      "source": [
        "# baseline_acc = 92.92\n",
        "baseline_acc = 0.9292\n",
        "\n",
        "# data = pd.read_csv('drive/MyDrive/char_s32_sweep_both_dir.tsv', sep='\\t', names=['seed', 'i', 'j', 'c', 'accuracy'])\n",
        "# data = pd.read_csv('drive/MyDrive/char_simple_kron_v1.tsv', sep='\\t', names=['seed', 'i', 'j', 'c', 'accuracy'])\n",
        "# data = pd.read_csv('drive/MyDrive/char_simple_kron_s50.tsv', sep='\\t', names=['seed', 'i', 'j', 'c', 'accuracy'])\n",
        "# data = pd.read_csv('drive/MyDrive/char_simple_kron_eye.tsv', sep='\\t', names=['seed', 'i', 'j', 'c', 'accuracy'])\n",
        "# data = pd.read_csv('drive/MyDrive/char_simple_kron_4x4_sweep_seed_full3.tsv', sep='\\t', names=['seed', 'c', 'accuracy'])\n",
        "# data = pd.read_csv('drive/MyDrive/char_gray_code_s25_seed_range.tsv', sep='\\t', names=['seed', 'c', 'accuracy'])\n",
        "# data = pd.read_csv('drive/MyDrive/char_gray_code_s25_seed_range.tsv', sep='\\t', names=['seed', 'c', 'accuracy'])\n",
        "# data = pd.read_csv('drive/MyDrive/char_simple_kron.tsv', sep='\\t', names=['seed', 'c', 'accuracy'])\n",
        "# data = pd.read_csv('drive/MyDrive/char_s32_sweep_small_ber_range - char_s32_sweep_small_ber_range.tsv', sep='\\t', names=['seed', 'i', 'j', 'c', 'accuracy'])\n",
        "# data = pd.read_csv('drive/MyDrive/char_linenc_s20_seedr_3bpc.tsv', sep='\\t', names=['seed', 'c', 'accuracy'])\n",
        "# data = pd.read_csv('drive/MyDrive/char_sensitivity_normc.tsv', sep='\\t', names=['i', 'j', 'accuracy', 'accdeg'])\n",
        "\n",
        "data = pd.read_csv('drive/MyDrive/char_c_normed_approx_pdf.tsv', sep='\\t', names=['i', 'j', 'accuracy', 'accdeg', 'i-j'])\n",
        "\n",
        "\n",
        "#NOTE: depending on what run accuracies may be as percents or as decimals\n",
        "data['accdeg'] = baseline_acc - data['accuracy']\n",
        "# data['accdeg'] = (baseline_acc - data['accuracy'])*0.01\n",
        "\n",
        "data.head()"
      ],
      "metadata": {
        "colab": {
          "base_uri": "https://localhost:8080/",
          "height": 206
        },
        "id": "s3teC2IxeJ_L",
        "outputId": "df06cc64-4556-4248-e3e7-1c24b11406ce"
      },
      "execution_count": null,
      "outputs": [
        {
          "output_type": "execute_result",
          "data": {
            "text/plain": [
              "   i    j  accuracy  accdeg  i-j\n",
              "0  0    0    0.9292    0.00    0\n",
              "1  0   32    0.6692    0.26   32\n",
              "2  0   64    0.5392    0.39   64\n",
              "3  0   96    0.1192    0.81   96\n",
              "4  0  128    0.3692    0.56  128"
            ],
            "text/html": [
              "\n",
              "  <div id=\"df-f8cb478c-4afa-402a-a6ea-47d523c13d1b\">\n",
              "    <div class=\"colab-df-container\">\n",
              "      <div>\n",
              "<style scoped>\n",
              "    .dataframe tbody tr th:only-of-type {\n",
              "        vertical-align: middle;\n",
              "    }\n",
              "\n",
              "    .dataframe tbody tr th {\n",
              "        vertical-align: top;\n",
              "    }\n",
              "\n",
              "    .dataframe thead th {\n",
              "        text-align: right;\n",
              "    }\n",
              "</style>\n",
              "<table border=\"1\" class=\"dataframe\">\n",
              "  <thead>\n",
              "    <tr style=\"text-align: right;\">\n",
              "      <th></th>\n",
              "      <th>i</th>\n",
              "      <th>j</th>\n",
              "      <th>accuracy</th>\n",
              "      <th>accdeg</th>\n",
              "      <th>i-j</th>\n",
              "    </tr>\n",
              "  </thead>\n",
              "  <tbody>\n",
              "    <tr>\n",
              "      <th>0</th>\n",
              "      <td>0</td>\n",
              "      <td>0</td>\n",
              "      <td>0.9292</td>\n",
              "      <td>0.00</td>\n",
              "      <td>0</td>\n",
              "    </tr>\n",
              "    <tr>\n",
              "      <th>1</th>\n",
              "      <td>0</td>\n",
              "      <td>32</td>\n",
              "      <td>0.6692</td>\n",
              "      <td>0.26</td>\n",
              "      <td>32</td>\n",
              "    </tr>\n",
              "    <tr>\n",
              "      <th>2</th>\n",
              "      <td>0</td>\n",
              "      <td>64</td>\n",
              "      <td>0.5392</td>\n",
              "      <td>0.39</td>\n",
              "      <td>64</td>\n",
              "    </tr>\n",
              "    <tr>\n",
              "      <th>3</th>\n",
              "      <td>0</td>\n",
              "      <td>96</td>\n",
              "      <td>0.1192</td>\n",
              "      <td>0.81</td>\n",
              "      <td>96</td>\n",
              "    </tr>\n",
              "    <tr>\n",
              "      <th>4</th>\n",
              "      <td>0</td>\n",
              "      <td>128</td>\n",
              "      <td>0.3692</td>\n",
              "      <td>0.56</td>\n",
              "      <td>128</td>\n",
              "    </tr>\n",
              "  </tbody>\n",
              "</table>\n",
              "</div>\n",
              "      <button class=\"colab-df-convert\" onclick=\"convertToInteractive('df-f8cb478c-4afa-402a-a6ea-47d523c13d1b')\"\n",
              "              title=\"Convert this dataframe to an interactive table.\"\n",
              "              style=\"display:none;\">\n",
              "        \n",
              "  <svg xmlns=\"http://www.w3.org/2000/svg\" height=\"24px\"viewBox=\"0 0 24 24\"\n",
              "       width=\"24px\">\n",
              "    <path d=\"M0 0h24v24H0V0z\" fill=\"none\"/>\n",
              "    <path d=\"M18.56 5.44l.94 2.06.94-2.06 2.06-.94-2.06-.94-.94-2.06-.94 2.06-2.06.94zm-11 1L8.5 8.5l.94-2.06 2.06-.94-2.06-.94L8.5 2.5l-.94 2.06-2.06.94zm10 10l.94 2.06.94-2.06 2.06-.94-2.06-.94-.94-2.06-.94 2.06-2.06.94z\"/><path d=\"M17.41 7.96l-1.37-1.37c-.4-.4-.92-.59-1.43-.59-.52 0-1.04.2-1.43.59L10.3 9.45l-7.72 7.72c-.78.78-.78 2.05 0 2.83L4 21.41c.39.39.9.59 1.41.59.51 0 1.02-.2 1.41-.59l7.78-7.78 2.81-2.81c.8-.78.8-2.07 0-2.86zM5.41 20L4 18.59l7.72-7.72 1.47 1.35L5.41 20z\"/>\n",
              "  </svg>\n",
              "      </button>\n",
              "      \n",
              "  <style>\n",
              "    .colab-df-container {\n",
              "      display:flex;\n",
              "      flex-wrap:wrap;\n",
              "      gap: 12px;\n",
              "    }\n",
              "\n",
              "    .colab-df-convert {\n",
              "      background-color: #E8F0FE;\n",
              "      border: none;\n",
              "      border-radius: 50%;\n",
              "      cursor: pointer;\n",
              "      display: none;\n",
              "      fill: #1967D2;\n",
              "      height: 32px;\n",
              "      padding: 0 0 0 0;\n",
              "      width: 32px;\n",
              "    }\n",
              "\n",
              "    .colab-df-convert:hover {\n",
              "      background-color: #E2EBFA;\n",
              "      box-shadow: 0px 1px 2px rgba(60, 64, 67, 0.3), 0px 1px 3px 1px rgba(60, 64, 67, 0.15);\n",
              "      fill: #174EA6;\n",
              "    }\n",
              "\n",
              "    [theme=dark] .colab-df-convert {\n",
              "      background-color: #3B4455;\n",
              "      fill: #D2E3FC;\n",
              "    }\n",
              "\n",
              "    [theme=dark] .colab-df-convert:hover {\n",
              "      background-color: #434B5C;\n",
              "      box-shadow: 0px 1px 3px 1px rgba(0, 0, 0, 0.15);\n",
              "      filter: drop-shadow(0px 1px 2px rgba(0, 0, 0, 0.3));\n",
              "      fill: #FFFFFF;\n",
              "    }\n",
              "  </style>\n",
              "\n",
              "      <script>\n",
              "        const buttonEl =\n",
              "          document.querySelector('#df-f8cb478c-4afa-402a-a6ea-47d523c13d1b button.colab-df-convert');\n",
              "        buttonEl.style.display =\n",
              "          google.colab.kernel.accessAllowed ? 'block' : 'none';\n",
              "\n",
              "        async function convertToInteractive(key) {\n",
              "          const element = document.querySelector('#df-f8cb478c-4afa-402a-a6ea-47d523c13d1b');\n",
              "          const dataTable =\n",
              "            await google.colab.kernel.invokeFunction('convertToInteractive',\n",
              "                                                     [key], {});\n",
              "          if (!dataTable) return;\n",
              "\n",
              "          const docLinkHtml = 'Like what you see? Visit the ' +\n",
              "            '<a target=\"_blank\" href=https://colab.research.google.com/notebooks/data_table.ipynb>data table notebook</a>'\n",
              "            + ' to learn more about interactive tables.';\n",
              "          element.innerHTML = '';\n",
              "          dataTable['output_type'] = 'display_data';\n",
              "          await google.colab.output.renderOutput(dataTable, element);\n",
              "          const docLink = document.createElement('div');\n",
              "          docLink.innerHTML = docLinkHtml;\n",
              "          element.appendChild(docLink);\n",
              "        }\n",
              "      </script>\n",
              "    </div>\n",
              "  </div>\n",
              "  "
            ]
          },
          "metadata": {},
          "execution_count": 2
        }
      ]
    },
    {
      "cell_type": "markdown",
      "source": [
        "# **Assess Accuracy Degradation**"
      ],
      "metadata": {
        "id": "hUY6EFi5A-jD"
      }
    },
    {
      "cell_type": "markdown",
      "source": [
        "Plot accuracy degradation vs abs(i-j)"
      ],
      "metadata": {
        "id": "lMxARGMfBJyI"
      }
    },
    {
      "cell_type": "code",
      "source": [
        "for d in data.iterrows():\n",
        "  accdegmat = np.zeros((257,257))\n",
        "  dist = []\n",
        "  accdeg = []\n",
        "\n",
        "  if d[1].accdeg < 0:\n",
        "    d[1].accdeg = 0.0001\n",
        "\n",
        "  accdegmat[int(d[1].i)][int(d[1].j)] = d[1].accdeg\n",
        "\n",
        "  dist_val = np.abs(int(d[1].i)-int(d[1].j))\n",
        "\n",
        "  accdeg_val = d[1].accdeg\n",
        "\n",
        "  dist.append(np.abs(int(d[1].i)-int(d[1].j)))\n",
        "  accdeg.append(accdeg_val)\n",
        "\n",
        "  plt.title(f'normc')\n",
        "  # fig,ax = plt.subplots(figsize=(8, 4), dpi= 80, facecolor='w', edgecolor='k')\n",
        "  plt.scatter(dist, accdeg)\n",
        "  # plt.hold(True)\n",
        "\n",
        "plt.show()\n"
      ],
      "metadata": {
        "colab": {
          "base_uri": "https://localhost:8080/",
          "height": 281
        },
        "id": "lJtgUirxa41z",
        "outputId": "c4c818ed-4eb3-4757-a6c4-ca4e027cf3e3"
      },
      "execution_count": null,
      "outputs": [
        {
          "output_type": "display_data",
          "data": {
            "text/plain": [
              "<Figure size 432x288 with 1 Axes>"
            ],
            "image/png": "[encoded data removed]"
          },
          "metadata": {
            "needs_background": "light"
          }
        }
      ]
    },
    {
      "cell_type": "markdown",
      "source": [
        "Plot accuracy degradation matrix for sensitivity analysis."
      ],
      "metadata": {
        "id": "ak-Nu5Q5BFu7"
      }
    },
    {
      "cell_type": "code",
      "source": [
        "for c, ds in data.groupby('c'):\n",
        "  accdegmat = np.zeros((256,256))\n",
        "  dist = []\n",
        "  accdeg = []\n",
        "  accdegmat[:] = np.NaN\n",
        "  counter = 0\n",
        "  for d in ds.iterrows():\n",
        "    if d[1].accdeg < 0:\n",
        "      d[1].accdeg = 0.0001\n",
        "\n",
        "    accdegmat[int(d[1].i)][int(d[1].j)] = d[1].accdeg\n",
        "\n",
        "    dist_val = np.abs(int(d[1].i)-int(d[1].j))\n",
        "\n",
        "    accdeg_val = d[1].accdeg\n",
        "\n",
        "    dist.append(np.abs(int(d[1].i)-int(d[1].j)))\n",
        "    \n",
        "    if(accdeg_val > 1):\n",
        "      accdeg_val = np.random.uniform(0.5,0.8)\n",
        "    accdeg.append(accdeg_val)\n",
        "  \n",
        "  plt.title(f'c={c}')\n",
        "  plt.scatter(dist, accdeg)\n",
        "  plt.show()"
      ],
      "metadata": {
        "id": "V8wr0BQYgtcP"
      },
      "execution_count": null,
      "outputs": []
    },
    {
      "cell_type": "markdown",
      "source": [
        "Plot accuracy degradation vs c (only for c-sweeps)"
      ],
      "metadata": {
        "id": "RB-HsymIBdVE"
      }
    },
    {
      "cell_type": "code",
      "source": [
        "for i, d in data[data['seed'] == 0].groupby(['i','j']):\n",
        "  if i[0] != i[1]:\n",
        "    plt.figure(i[0])\n",
        "    d.plot('c', 'accdeg', logx=True, label=i, ax=plt.gca())"
      ],
      "metadata": {
        "id": "6uxnXobqeRXt"
      },
      "execution_count": null,
      "outputs": []
    },
    {
      "cell_type": "code",
      "source": [
        "d_0 = data[data['seed'] == 0]\n",
        "d_1 = data[data['seed'] == 1]\n",
        "d_2 = data[data['seed'] == 2]\n",
        "\n",
        "plt.plot(d_0['c'], d_0['accdeg'], label=\"seed = 0\")\n",
        "plt.plot(d_1['c'], d_1['accdeg'], label=\"seed = 1\")\n",
        "plt.plot(d_2['c'], d_2['accdeg'], label=\"seed = 2\")\n",
        "\n",
        "plt.legend()\n",
        "\n",
        "plt.xscale('log')\n",
        "plt.show()"
      ],
      "metadata": {
        "colab": {
          "base_uri": "https://localhost:8080/",
          "height": 269
        },
        "id": "6Z9ySpPGoDr3",
        "outputId": "5aafe880-6926-4f6f-bd16-f8984b7277a5"
      },
      "execution_count": null,
      "outputs": [
        {
          "output_type": "display_data",
          "data": {
            "text/plain": [
              "<Figure size 432x288 with 1 Axes>"
            ],
            "image/png": "[encoded data removed]"
          },
          "metadata": {
            "needs_background": "light"
          }
        }
      ]
    }
  ]
}