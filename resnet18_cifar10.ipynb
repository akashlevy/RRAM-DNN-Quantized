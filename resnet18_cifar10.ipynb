{
  "cells": [
    {
      "cell_type": "markdown",
      "metadata": {
        "id": "view-in-github",
        "colab_type": "text"
      },
      "source": [
        "<a href=\"https://colab.research.google.com/github/akashlevy/RRAM-DNN-Quantized/blob/main/resnet18_cifar10.ipynb\" target=\"_parent\"><img src=\"https://colab.research.google.com/assets/colab-badge.svg\" alt=\"Open In Colab\"/></a>"
      ]
    },
    {
      "cell_type": "markdown",
      "metadata": {
        "id": "JIMyvw8HUQTS"
      },
      "source": [
        "# **Setup: Imports & Helper Functions**"
      ]
    },
    {
      "cell_type": "markdown",
      "metadata": {
        "id": "X7Y_YxSGUjvB"
      },
      "source": [
        "Initial Setup"
      ]
    },
    {
      "cell_type": "code",
      "execution_count": null,
      "metadata": {
        "id": "uZqJSXnnUM65"
      },
      "outputs": [],
      "source": [
        "import torch\n",
        "import torchvision\n",
        "import torchvision.transforms as transforms\n",
        "import torch.nn as nn\n",
        "import torch.nn.functional as F\n",
        "import torch.optim as optim\n",
        "import torchvision.models as models\n",
        "import os\n",
        "from torch.utils.data import DataLoader\n",
        "import torch.quantization\n",
        "from torch.quantization import QuantStub, DeQuantStub\n",
        "from torch.quantization import *\n",
        "import numpy as np\n",
        "import cupy as cp\n",
        "import matplotlib.pyplot as plt\n",
        "import copy\n",
        "import pandas as pd\n",
        "import statistics\n",
        "import scipy.stats\n",
        "from scipy.sparse import diags"
      ]
    },
    {
      "cell_type": "markdown",
      "metadata": {
        "id": "0SIzEeeTVvfM"
      },
      "source": [
        "Loading Testing and Training Data from CIFAR"
      ]
    },
    {
      "cell_type": "code",
      "execution_count": null,
      "metadata": {
        "colab": {
          "base_uri": "https://localhost:8080/",
          "height": 161,
          "referenced_widgets": [
            "2858e963ea25467ca961b8c6f3a6590d",
            "994ddccb10fb450dbd89222b6be68725",
            "21df95b1fb464b7d86014e6def00259a",
            "f7c874ead2c84024a3dfb7adb996b041",
            "4d45d791982642318ba62a0e66b24ba2",
            "1b7a94d8e1ab4dc19fe39f67fd355ce9",
            "d8075a4f16ce40e38ff62c42126e0f35",
            "e78df50b3d024f588da3466ab457dc98",
            "93b769b0ee8546a5bbaca76de642fbe6",
            "c1a9d58ffd054fbaa299d39dde4b114d",
            "0c4e2778cbd24b21b38ee37fc94ac805"
          ]
        },
        "id": "du56m3E1Vy0u",
        "outputId": "f4654fc4-b97a-4da9-b6d0-f1b3f103531e"
      },
      "outputs": [
        {
          "output_type": "stream",
          "name": "stdout",
          "text": [
            "Downloading https://www.cs.toronto.edu/~kriz/cifar-10-python.tar.gz to ./data/cifar-10-python.tar.gz\n"
          ]
        },
        {
          "output_type": "display_data",
          "data": {
            "text/plain": [
              "  0%|          | 0/170498071 [00:00<?, ?it/s]"
            ],
            "application/vnd.jupyter.widget-view+json": {
              "version_major": 2,
              "version_minor": 0,
              "model_id": "2858e963ea25467ca961b8c6f3a6590d"
            }
          },
          "metadata": {}
        },
        {
          "output_type": "stream",
          "name": "stdout",
          "text": [
            "Extracting ./data/cifar-10-python.tar.gz to ./data\n"
          ]
        },
        {
          "output_type": "stream",
          "name": "stderr",
          "text": [
            "/usr/local/lib/python3.7/dist-packages/torch/utils/data/dataloader.py:566: UserWarning: This DataLoader will create 16 worker processes in total. Our suggested max number of worker in current system is 4, which is smaller than what this DataLoader is going to create. Please be aware that excessive worker creation might get DataLoader running slow or even freeze, lower the worker number to avoid potential slowness/freeze if necessary.\n",
            "  cpuset_checked))\n"
          ]
        },
        {
          "output_type": "stream",
          "name": "stdout",
          "text": [
            "Files already downloaded and verified\n"
          ]
        }
      ],
      "source": [
        "transform = transforms.Compose([\n",
        "    transforms.Pad(4),\n",
        "    transforms.RandomHorizontalFlip(),\n",
        "    transforms.RandomCrop(32),\n",
        "    transforms.ToTensor()])\n",
        "\n",
        "trainset = torchvision.datasets.CIFAR10(root = './data',train=True,download=True,transform=transform)\n",
        "\n",
        "trainloader = torch.utils.data.DataLoader(trainset,batch_size=64,shuffle=True,num_workers=16,pin_memory=True)\n",
        "\n",
        "testset = torchvision.datasets.CIFAR10(root='./data', train=False, download=True,transform=transform)\n",
        "\n",
        "testloader = torch.utils.data.DataLoader(testset, batch_size=64,shuffle=False,num_workers=16,pin_memory=True)"
      ]
    },
    {
      "cell_type": "markdown",
      "metadata": {
        "id": "H_C4AHv3XjE5"
      },
      "source": [
        "Helper Functions"
      ]
    },
    {
      "cell_type": "code",
      "execution_count": null,
      "metadata": {
        "id": "myE6N8sDXkWK"
      },
      "outputs": [],
      "source": [
        "class AverageMeter(object):\n",
        "    #computes and stores average and current value, used in training\n",
        "    def __init__(self, name, fmt=':f'):\n",
        "        self.name = name\n",
        "        self.fmt = fmt\n",
        "        self.reset()\n",
        "\n",
        "    def reset(self):\n",
        "        self.val = 0\n",
        "        self.avg = 0\n",
        "        self.sum = 0\n",
        "        self.count = 0\n",
        "\n",
        "    def update(self, val, n=1):\n",
        "        self.val = val\n",
        "        self.sum += val * n\n",
        "        self.count += n\n",
        "        self.avg = self.sum / self.count\n",
        "\n",
        "    def __str__(self):\n",
        "        fmtstr = '{name} {val' + self.fmt + '} ({avg' + self.fmt + '})'\n",
        "        return fmtstr.format(**self.__dict__)\n",
        "\n",
        "def accuracy(output, target):\n",
        "    #computes top-1 accuracy\n",
        "    with torch.no_grad():\n",
        "        batch_size = target.size(0)\n",
        "\n",
        "        _, pred = output.topk(1, 1, True, True)\n",
        "        pred = pred.t()\n",
        "        correct = pred.eq(target.view(1, -1).expand_as(pred))\n",
        "\n",
        "        res = []\n",
        "        correct_one = correct[:1].view(-1).float().sum(0, keepdim=True)\n",
        "        return correct_one.mul_(100.0 / batch_size).item()\n",
        "\n",
        "def print_size_of_model(model):\n",
        "    #print size of model\n",
        "    torch.save(model.state_dict(), \"temp.p\")\n",
        "    print('Size (MB):', os.path.getsize(\"temp.p\")/1e6)\n",
        "    os.remove('temp.p')\n",
        "\n",
        "def load_model(quantized_model, model):\n",
        "    #loads model into object meant for quantization\n",
        "    state_dict = model.state_dict()\n",
        "    model = model.to('cpu')\n",
        "    quantized_model.load_state_dict(state_dict)\n",
        "\n",
        "def fuse_modules(model):\n",
        "    #fuse together convolutions and other layers\n",
        "    fused_model = model\n",
        "    fused_model = torch.quantization.fuse_modules(\n",
        "    fused_model, [[\"conv1\", \"bn1\", \"relu\"]], inplace=True)\n",
        "    for module_name, module in fused_model.named_children():\n",
        "        if \"layer\" in module_name:\n",
        "            for basic_block_name, basic_block in module.named_children():\n",
        "                torch.quantization.fuse_modules(\n",
        "                    basic_block, [[\"conv1\", \"bn1\", \"relu\"], [\"conv2\", \"bn2\"]], inplace=True)\n",
        "                for sub_block_name, sub_block in basic_block.named_children():\n",
        "                    if sub_block_name == \"downsample\":\n",
        "                        torch.quantization.fuse_modules(\n",
        "                            sub_block, [[\"0\", \"1\"]], inplace=True)"
      ]
    },
    {
      "cell_type": "markdown",
      "metadata": {
        "id": "wwAeuhrFYcm9"
      },
      "source": [
        "Training and Testing Funcs"
      ]
    },
    {
      "cell_type": "code",
      "execution_count": null,
      "metadata": {
        "id": "qvQZDfMTYedT"
      },
      "outputs": [],
      "source": [
        "#local variable to plot loss to see convergence\n",
        "train_losses = []\n",
        "train_losses.clear()\n",
        "\n",
        "def train(model: nn.Module, dataloader: DataLoader, num_epochs, cuda=False, q=False):\n",
        "    train_losses.clear()\n",
        "    criterion = nn.CrossEntropyLoss()\n",
        "\n",
        "    optimizer = optim.SGD(model.parameters(),lr=0.05, momentum=0.9, weight_decay=5e-4)\n",
        "\n",
        "    #scheduler impacts loss convergence for QAT vs baseline\n",
        "    scheduler = optim.lr_scheduler.MultiStepLR(optimizer, milestones=[25,40], gamma=0.1)\n",
        "    \n",
        "    if q == True:\n",
        "      scheduler = optim.lr_scheduler.MultiStepLR(optimizer, milestones=[2,5,7,10,15], gamma=0.1)\n",
        "\n",
        "    model.train()\n",
        "    for epoch in range(num_epochs):  # loop over the dataset multiple times\n",
        "\n",
        "        running_loss = AverageMeter('loss')\n",
        "        acc = AverageMeter('train_acc')\n",
        "        for i, data in enumerate(dataloader, 0):\n",
        "            # get the inputs; data is a list of [inputs, labels]\n",
        "            inputs, labels = data\n",
        "            if cuda:\n",
        "              inputs = inputs.cuda()\n",
        "              labels = labels.cuda()\n",
        "\n",
        "            # zero the parameter gradients\n",
        "            optimizer.zero_grad()\n",
        "\n",
        "            if epoch>=3 and q:\n",
        "              model.apply(torch.quantization.disable_observer)\n",
        "\n",
        "            # forward + backward + optimize\n",
        "            outputs = model(inputs)\n",
        "            loss = criterion(outputs, labels)\n",
        "            loss.backward()\n",
        "            optimizer.step()\n",
        "\n",
        "            # print statistics\n",
        "            running_loss.update(loss.item(), outputs.shape[0])\n",
        "            acc.update(accuracy(outputs, labels), outputs.shape[0])\n",
        "            if i % 100 == 0:    # print every 100 mini-batches\n",
        "                print('[%d, %5d] ' %\n",
        "                    (epoch + 1, i + 1), running_loss, acc)\n",
        "        train_loss = running_loss.avg / len(trainloader)\n",
        "        train_losses.append(train_loss)\n",
        "        scheduler.step()\n",
        "    print('Finished Training')\n",
        "\n",
        "\n",
        "def test(model: nn.Module, dataloader: DataLoader, cuda=False) -> float:\n",
        "    correct = 0\n",
        "    total = 0\n",
        "    model.eval()\n",
        "    with torch.no_grad():\n",
        "        for data in dataloader:\n",
        "            inputs, labels = data\n",
        "\n",
        "            if cuda:\n",
        "              inputs = inputs.cuda()\n",
        "              labels = labels.cuda()\n",
        "\n",
        "            outputs = model(inputs)\n",
        "            _, predicted = torch.max(outputs.data, 1)\n",
        "            total += labels.size(0)\n",
        "            correct += (predicted == labels).sum().item()\n",
        "    \n",
        "    return 100 * correct / total"
      ]
    },
    {
      "cell_type": "markdown",
      "metadata": {
        "id": "L9MqAQz-3EQ3"
      },
      "source": [
        "# **Train Unquantized ResNet-18 Model on CIFAR10**"
      ]
    },
    {
      "cell_type": "markdown",
      "metadata": {
        "id": "2XOAG2nCemzV"
      },
      "source": [
        "Train baseline (modified) ResNet18 on CIFAR-10"
      ]
    },
    {
      "cell_type": "code",
      "execution_count": null,
      "metadata": {
        "id": "aulWwSmsYrWF"
      },
      "outputs": [],
      "source": [
        "#get unquantized model from torch.models.quantization (already has built-in fusing capability)\n",
        "unquant_model = models.quantization.resnet18(pretrained=False, num_classes=10)\n",
        "\n",
        "#change the initial conv/maxpool layers so that they work better for CIFAR-10 dataset\n",
        "unquant_model.conv1 = torch.nn.Conv2d(3,64,kernel_size=3,stride=1,padding=1,bias=False)\n",
        "unquant_model.maxpool = torch.nn.Identity()\n",
        "\n",
        "#train\n",
        "unquant_model = unquant_model.cuda()\n",
        "train(unquant_model,trainloader,50,cuda=True,q=False)\n",
        "\n",
        "#plot loss\n",
        "%matplotlib inline\n",
        "plt.plot(train_losses)\n",
        "plt.xlabel('epoch')\n",
        "plt.ylabel('loss')\n",
        "plt.show()"
      ]
    },
    {
      "cell_type": "markdown",
      "metadata": {
        "id": "64AU9Rm9Uhap"
      },
      "source": [
        "Compute baseline inference accuracy and save model."
      ]
    },
    {
      "cell_type": "code",
      "execution_count": null,
      "metadata": {
        "colab": {
          "base_uri": "https://localhost:8080/"
        },
        "id": "M2dspZs6emGE",
        "outputId": "c0529d81-0355-460a-8712-bca305d0a8d6"
      },
      "outputs": [
        {
          "name": "stderr",
          "output_type": "stream",
          "text": [
            "/usr/local/lib/python3.7/dist-packages/torch/utils/data/dataloader.py:490: UserWarning: This DataLoader will create 16 worker processes in total. Our suggested max number of worker in current system is 4, which is smaller than what this DataLoader is going to create. Please be aware that excessive worker creation might get DataLoader running slow or even freeze, lower the worker number to avoid potential slowness/freeze if necessary.\n",
            "  cpuset_checked))\n"
          ]
        },
        {
          "name": "stdout",
          "output_type": "stream",
          "text": [
            "Accuracy of the network on the test images: 93.57% - FP32\n"
          ]
        }
      ],
      "source": [
        "unquant_model = unquant_model.cuda()\n",
        "\n",
        "score = test(unquant_model, testloader, cuda=True)\n",
        "print('Accuracy of the network on the test images: {}% - FP32'.format(score))\n",
        "\n",
        "torch.save(unquant_model.state_dict(), 'resnet18_cifar10_baseline.pth')"
      ]
    },
    {
      "cell_type": "markdown",
      "metadata": {
        "id": "PRuAyyakYlJV"
      },
      "source": [
        "# **Quantization Aware Training: 8 bits**"
      ]
    },
    {
      "cell_type": "markdown",
      "metadata": {
        "id": "RzatZLAxVPqH"
      },
      "source": [
        "Initialize model and fuse."
      ]
    },
    {
      "cell_type": "code",
      "execution_count": null,
      "metadata": {
        "colab": {
          "base_uri": "https://localhost:8080/"
        },
        "id": "DMQDgKVHHUNM",
        "outputId": "a1210d65-a70d-4036-d09b-fce9ad768e8e"
      },
      "outputs": [
        {
          "output_type": "stream",
          "name": "stderr",
          "text": [
            "/usr/local/lib/python3.7/dist-packages/torchvision/models/_utils.py:209: UserWarning: The parameter 'pretrained' is deprecated since 0.13 and will be removed in 0.15, please use 'weights' instead.\n",
            "  f\"The parameter '{pretrained_param}' is deprecated since 0.13 and will be removed in 0.15, \"\n",
            "/usr/local/lib/python3.7/dist-packages/torchvision/models/_utils.py:223: UserWarning: Arguments other than a weight enum or `None` for 'weights' are deprecated since 0.13 and will be removed in 0.15. The current behavior is equivalent to passing `weights=None`.\n",
            "  warnings.warn(msg)\n"
          ]
        }
      ],
      "source": [
        "#initialize model with same modifications as baseline\n",
        "qnet = models.quantization.resnet18(pretrained=False, num_classes=10)\n",
        "qnet.conv1 = torch.nn.Conv2d(3,64,kernel_size=3,stride=1,padding=1,bias=False)\n",
        "qnet.maxpool = torch.nn.Identity()\n",
        "\n",
        "qnet.load_state_dict(torch.load('resnet18_cifar10_baseline.pth'))\n",
        "\n",
        "#fuse model\n",
        "qnet.fuse_model()"
      ]
    },
    {
      "cell_type": "markdown",
      "metadata": {
        "id": "J2ZTBTYzVuCb"
      },
      "source": [
        "Prepare for QAT, and train neural network."
      ]
    },
    {
      "cell_type": "code",
      "execution_count": null,
      "metadata": {
        "id": "Y8eczsqhMI-v"
      },
      "outputs": [],
      "source": [
        "print(qnet)\n",
        "\n",
        "#set for QAT\n",
        "qnet.eval()\n",
        "qnet.qconfig = torch.quantization.get_default_qat_qconfig()\n",
        "\n",
        "#prepare network for QAT\n",
        "qnet.train()\n",
        "torch.quantization.prepare_qat(qnet,inplace=True)\n",
        "qnet = qnet.cuda()\n",
        "\n",
        "#Train NN\n",
        "train(qnet,trainloader,20,cuda=True,q=True)\n",
        "print(\"Size of Model after quantization\")\n",
        "print_size_of_model(qnet)"
      ]
    },
    {
      "cell_type": "markdown",
      "metadata": {
        "id": "qkwySRTkVwhm"
      },
      "source": [
        "Plot loss to confirm convergence."
      ]
    },
    {
      "cell_type": "code",
      "execution_count": null,
      "metadata": {
        "colab": {
          "base_uri": "https://localhost:8080/",
          "height": 279
        },
        "id": "XBucFHoyEd60",
        "outputId": "3c62b8d3-659f-4fe7-fa02-6eb539da898c"
      },
      "outputs": [
        {
          "data": {
            "image/png": "[encoded data removed]",
            "text/plain": [
              "<Figure size 432x288 with 1 Axes>"
            ]
          },
          "metadata": {},
          "output_type": "display_data"
        }
      ],
      "source": [
        "%matplotlib inline\n",
        "plt.plot(train_losses)\n",
        "plt.xlabel('epoch')\n",
        "plt.ylabel('loss')\n",
        "plt.show()"
      ]
    },
    {
      "cell_type": "markdown",
      "metadata": {
        "id": "tOE7uHAmeVO2"
      },
      "source": [
        "Convert quantized model to int8 representation and compute inference accuracy."
      ]
    },
    {
      "cell_type": "code",
      "execution_count": null,
      "metadata": {
        "id": "rPrtKmhTqDeJ"
      },
      "outputs": [],
      "source": [
        "qnet= qnet.cpu()\n",
        "torch.quantization.convert(qnet,inplace=True)\n",
        "print(\"Size of model after quantization\")\n",
        "print_size_of_model(qnet)\n",
        "\n",
        "#calculate inference accuracy\n",
        "score = test(qnet,testloader,cuda=False)\n",
        "print('Accuracy of the fused and quantized network (trained quantized) on the test images: {}% - INT8'.format(score))"
      ]
    },
    {
      "cell_type": "markdown",
      "metadata": {
        "id": "GqfPD0ZDV8Cp"
      },
      "source": [
        "Save model."
      ]
    },
    {
      "cell_type": "code",
      "execution_count": null,
      "metadata": {
        "id": "KXJgn9SvJ_IN"
      },
      "outputs": [],
      "source": [
        "torch.save(qnet.state_dict(), 'resnet18_cifar10_8b_qat.pth')"
      ]
    },
    {
      "cell_type": "markdown",
      "metadata": {
        "id": "njEiOj__eeIC"
      },
      "source": [
        "Load saved model."
      ]
    },
    {
      "cell_type": "code",
      "execution_count": null,
      "metadata": {
        "id": "jsw9JxyU5WKa"
      },
      "outputs": [],
      "source": [
        "qnet_plt = models.quantization.resnet18(pretrained=False, num_classes=10)\n",
        "qnet_plt.conv1 = torch.nn.Conv2d(3,64,kernel_size=3,stride=1,padding=1,bias=False)\n",
        "qnet_plt.maxpool = torch.nn.Identity()\n",
        "\n",
        "qnet_plt.train()\n",
        "qnet_plt.qconfig = torch.quantization.get_default_qat_qconfig('fbgemm')\n",
        "qnet_plt.fuse_model()\n",
        "torch.quantization.prepare_qat(qnet_plt,inplace=True)\n",
        "qnet_plt = torch.quantization.convert(qnet_plt, inplace=True)\n",
        "\n",
        "qnet_plt.load_state_dict(torch.load('resnet18_cifar10_8b_qat.pth'))"
      ]
    },
    {
      "cell_type": "code",
      "execution_count": null,
      "metadata": {
        "id": "j_vDF7PLuebS"
      },
      "outputs": [],
      "source": [
        "score = test(qnet_plt, testloader, cuda=False)\n",
        "print(score)"
      ]
    },
    {
      "cell_type": "markdown",
      "metadata": {
        "id": "FGMR336JEp_w"
      },
      "source": [
        "# **Perturb weights using Confusion Matrix Error Model**"
      ]
    },
    {
      "cell_type": "markdown",
      "source": [
        "## Preparation: Loading model and extracting weights"
      ],
      "metadata": {
        "id": "SdHwhFNy-znV"
      }
    },
    {
      "cell_type": "markdown",
      "metadata": {
        "id": "deIyjRVGEZsz"
      },
      "source": [
        "Load weights from saved model."
      ]
    },
    {
      "cell_type": "code",
      "execution_count": null,
      "metadata": {
        "colab": {
          "base_uri": "https://localhost:8080/"
        },
        "id": "dAFDB2XOPcr_",
        "outputId": "8846c641-87c1-4b20-9380-c8f67668b0ab"
      },
      "outputs": [
        {
          "output_type": "stream",
          "name": "stderr",
          "text": [
            "/usr/local/lib/python3.7/dist-packages/torchvision/models/_utils.py:209: UserWarning: The parameter 'pretrained' is deprecated since 0.13 and will be removed in 0.15, please use 'weights' instead.\n",
            "  f\"The parameter '{pretrained_param}' is deprecated since 0.13 and will be removed in 0.15, \"\n",
            "/usr/local/lib/python3.7/dist-packages/torchvision/models/_utils.py:223: UserWarning: Arguments other than a weight enum or `None` for 'weights' are deprecated since 0.13 and will be removed in 0.15. The current behavior is equivalent to passing `weights=None`.\n",
            "  warnings.warn(msg)\n",
            "/usr/local/lib/python3.7/dist-packages/torch/ao/quantization/observer.py:178: UserWarning: Please use quant_min and quant_max to specify the range for observers.                     reduce_range will be deprecated in a future release of PyTorch.\n",
            "  reduce_range will be deprecated in a future release of PyTorch.\"\n",
            "/usr/local/lib/python3.7/dist-packages/torch/ao/quantization/utils.py:281: UserWarning: must run observer before calling calculate_qparams. Returning default values.\n",
            "  \"must run observer before calling calculate_qparams. \" +\n"
          ]
        },
        {
          "output_type": "execute_result",
          "data": {
            "text/plain": [
              "<All keys matched successfully>"
            ]
          },
          "metadata": {},
          "execution_count": 5
        }
      ],
      "source": [
        "model = models.quantization.resnet18(pretrained=False, num_classes=10)\n",
        "model.conv1 = torch.nn.Conv2d(3,64,kernel_size=3,stride=1,padding=1,bias=False)\n",
        "model.maxpool = torch.nn.Identity()\n",
        "\n",
        "model.train()\n",
        "model.qconfig = torch.quantization.get_default_qat_qconfig('fbgemm')\n",
        "model.fuse_model()\n",
        "torch.quantization.prepare_qat(model,inplace=True)\n",
        "model = torch.quantization.convert(model, inplace=True)\n",
        "\n",
        "model.load_state_dict(torch.load('resnet18_cifar10_8b_qat.pth'))"
      ]
    },
    {
      "cell_type": "markdown",
      "metadata": {
        "id": "vBWvI05tFtz_"
      },
      "source": [
        "Extract weights from model. (NOTE: need recursive method bc state_dict.items() doesn't get all layers) "
      ]
    },
    {
      "cell_type": "code",
      "source": [
        "weights = {}\n",
        "\n",
        "def get_weights(model: nn.Module, key, curr_layer):\n",
        "  for name, child in model.named_children():\n",
        "    if isinstance(child,nn.Identity) or isinstance(child, nn.AvgPool2d) or isinstance(child, nn.quantized.QFunctional) or isinstance(child,nn.AdaptiveAvgPool2d) or isinstance(child, nn.quantized.Quantize) or isinstance(child, nn.quantized.DeQuantize):\n",
        "      continue\n",
        "    elif isinstance(child,nn.Sequential) or isinstance(child, torchvision.models.quantization.resnet.QuantizableBasicBlock):\n",
        "      if 'layer' in name:\n",
        "        curr_layer = name\n",
        "      get_weights(child, name, curr_layer)\n",
        "    else:\n",
        "      newname = curr_layer + '.' + key + '.' + name\n",
        "      weights[newname] = child.weight().int_repr().flatten().numpy()\n",
        "\n",
        "#get weights of model\n",
        "get_weights(model, \"\", \"\")\n",
        "print(weights.keys())"
      ],
      "metadata": {
        "colab": {
          "base_uri": "https://localhost:8080/"
        },
        "id": "EmuKiPRO5IHD",
        "outputId": "cfc24f74-a559-4aa1-d6a4-3768e781b686"
      },
      "execution_count": null,
      "outputs": [
        {
          "output_type": "stream",
          "name": "stdout",
          "text": [
            "dict_keys(['..conv1', 'layer1.0.conv1', 'layer1.0.conv2', 'layer1.1.conv1', 'layer1.1.conv2', 'layer2.0.conv1', 'layer2.0.conv2', 'layer2.downsample.0', 'layer2.1.conv1', 'layer2.1.conv2', 'layer3.0.conv1', 'layer3.0.conv2', 'layer3.downsample.0', 'layer3.1.conv1', 'layer3.1.conv2', 'layer4.0.conv1', 'layer4.0.conv2', 'layer4.downsample.0', 'layer4.1.conv1', 'layer4.1.conv2', 'layer4..fc'])\n"
          ]
        }
      ]
    },
    {
      "cell_type": "markdown",
      "source": [
        "## Perturb weights using confusion matrix error model."
      ],
      "metadata": {
        "id": "A3LhfwKq64He"
      }
    },
    {
      "cell_type": "markdown",
      "source": [
        "**Regular weight perturbation.**"
      ],
      "metadata": {
        "id": "JMR3OHd583Yb"
      }
    },
    {
      "cell_type": "code",
      "source": [
        "depositivize = np.vectorize(lambda x : x - 1 if x > 127 else x)\n",
        "\n",
        "for seed in range(3,4):\n",
        "  np.random.seed(seed)\n",
        "      \n",
        "  #sweep BERs\n",
        "  for ber in 10.**np.linspace(-8,0,50):\n",
        "    #log\n",
        "    print(f'Doing {seed}\\t{ber}')\n",
        "\n",
        "    nrows = 4\n",
        "    ncols = 4\n",
        "    \n",
        "    #create confmat\n",
        "    offset = [-1, 0, 1]\n",
        "    k = [[ber]*(ncols-1), [1 - 2*ber]*ncols, [ber]*(ncols-1)]\n",
        "\n",
        "    #sparse matrix with diagonals given by k\n",
        "    confmat = diags(k,offset).toarray()\n",
        "    confmat[0][0] = 1-ber\n",
        "    confmat[nrows-1][ncols-1] = 1-ber\n",
        "    \n",
        "    C_intermed = np.kron(confmat, confmat)\n",
        "    C = np.kron(C_intermed, C_intermed)\n",
        "    \n",
        "    print(len(C))\n",
        "    print(len(C[0]))\n",
        "\n",
        "    weights_perturb = {}\n",
        "\n",
        "    #perturb weights under confmat error model\n",
        "    for layer_name in weights:\n",
        "      if 'conv' in layer_name:\n",
        "        weight_in_layer = weights[layer_name]\n",
        "\n",
        "        #perturb based on confusion matrix\n",
        "\n",
        "        weights_perturb[layer_name] = np.zeros_like(weights[layer_name])\n",
        "        for x in range(256):\n",
        "          perturb = np.random.choice(256, p=C[x], size=len(weights[layer_name]))\n",
        "          weights_perturb[layer_name] += np.where(weights[layer_name] == (x-127), 1, 0) * perturb\n",
        "\n",
        "        #scale back to weight value\n",
        "        weights_perturb[layer_name] = depositivize(weights_perturb[layer_name] - 127)\n",
        "\n",
        "    #load relaxed weights back into model\n",
        "    for layer_name in weights_perturb:\n",
        "      name_arr = layer_name.split('.')\n",
        "      if name_arr[1] is \" \" or name_arr[1] is \"\":\n",
        "        name_arr[1] = \"\"\n",
        "      else:\n",
        "        name_arr[1] = \"[\" + name_arr[1] + \"].\"\n",
        "\n",
        "      if layer_name == \"..conv1\":\n",
        "        layer_name_p = \"conv1.weight\"\n",
        "      else:\n",
        "        layer_name_p = layer_name + \".weight\"\n",
        "\n",
        "      #keep scales/zero points\n",
        "      tmp = model.state_dict()[layer_name_p]\n",
        "      scales = tmp.q_per_channel_scales()\n",
        "      zero_pts = tmp.q_per_channel_zero_points()\n",
        "      axis = tmp.q_per_channel_axis()\n",
        "\n",
        "      new_w = torch._make_per_channel_quantized_tensor(torch.from_numpy(weights_perturb[layer_name]), scales, zero_pts, axis)\n",
        "        \n",
        "      setattr(model, str(str(name_arr[0] + name_arr[1] + name_arr[2]) + \"weight\"), new_w)\n",
        "\n",
        "    #evaluate accuracy after relaxation\n",
        "    # model = model.cuda()\n",
        "    accuracy = test(model,testloader,cuda=False)\n",
        "\n",
        "    with open('char_simple_kron_4x4_sweep_seed_4.tsv', 'a') as outf:\n",
        "      print(f'{seed}\\t{ber}\\t{accuracy}\\n')\n",
        "      outf.write(f'{seed}\\t{ber}\\t{accuracy}\\n')"
      ],
      "metadata": {
        "id": "s3Z5Hw0H7O1P"
      },
      "execution_count": null,
      "outputs": []
    },
    {
      "cell_type": "markdown",
      "source": [
        "**Normalized weights with respect to weight frequency.**"
      ],
      "metadata": {
        "id": "FAxKpMeq7K7Q"
      }
    },
    {
      "cell_type": "code",
      "execution_count": null,
      "metadata": {
        "id": "bC_OAE9E6q_g"
      },
      "outputs": [],
      "source": [
        "depositivize = np.vectorize(lambda x : x - 1 if x > 127 else x)\n",
        "\n",
        "for seed in range(1):\n",
        "  np.random.seed(seed)\n",
        "  \n",
        "  #sweep indices\n",
        "  for i in range(0,256):\n",
        "    for j in range(0,256):\n",
        "      if i == j:\n",
        "        continue\n",
        "      \n",
        "      #sweep BERs\n",
        "      ber = 1e-2\n",
        "\n",
        "      print(f'Doing {seed}\\t{i}\\t{j}')\n",
        "\n",
        "      #create confusion matrix\n",
        "      weights_perturb = {}\n",
        "\n",
        "      #perturb weights under confmat error model\n",
        "      for layer_name in weights:\n",
        "        if 'conv' in layer_name:\n",
        "          weight_in_layer = weights[layer_name]\n",
        "\n",
        "          #get unique weights and frequencies.\n",
        "          unique_vals, frequencies = np.unique(weight_in_layer, return_counts=True)\n",
        "\n",
        "          #divide ber by frequency of that particular weight\n",
        "          ber = ber / (frequencies[0][j-128]) \n",
        "          \n",
        "          #create confmat with new ber\n",
        "          C = np.eye(256)\n",
        "          C[i][i] = 1-ber\n",
        "          C[i][j] = ber\n",
        "\n",
        "          #perturb\n",
        "          weights_perturb[layer_name] = np.zeros_like(weights[layer_name])\n",
        "          for x in range(256):\n",
        "            perturb = np.random.choice(256, p=C[x], size=len(weights[layer_name]))\n",
        "            weights_perturb[layer_name] += np.where(weights[layer_name] == (x-127), 1, 0) * perturb\n",
        "\n",
        "          #scale back to weight value\n",
        "          weights_perturb[layer_name] = depositivize(weights_perturb[layer_name] - 127)\n",
        "\n",
        "      #load relaxed weights back into model\n",
        "      for layer_name in weights_perturb:\n",
        "        name_arr = layer_name.split('.')\n",
        "        if name_arr[1] is \" \" or name_arr[1] is \"\":\n",
        "          name_arr[1] = \"\"\n",
        "        else:\n",
        "          name_arr[1] = \"[\" + name_arr[1] + \"].\"\n",
        "\n",
        "        if layer_name == \"..conv1\":\n",
        "          layer_name_p = \"conv1.weight\"\n",
        "        else:\n",
        "          layer_name_p = layer_name + \".weight\"\n",
        "\n",
        "        #keep scales/zero points\n",
        "        tmp = model.state_dict()[layer_name_p]\n",
        "        scales = tmp.q_per_channel_scales()\n",
        "        zero_pts = tmp.q_per_channel_zero_points()\n",
        "        axis = tmp.q_per_channel_axis()\n",
        "\n",
        "        new_w = torch._make_per_channel_quantized_tensor(torch.from_numpy(weights_perturb[layer_name]), scales, zero_pts, axis)\n",
        "        \n",
        "        setattr(model, str(str(name_arr[0] + name_arr[1] + name_arr[2]) + \"weight\"), new_w)\n",
        "\n",
        "      #evaluate accuracy after relaxation\n",
        "      accuracy = test(model,testloader,cuda=False)\n",
        "\n",
        "      with open('char_normc_weight_freq.tsv', 'a') as outf:\n",
        "        print(f'{seed}\\t{i}\\t{j}\\t{ber}\\t{accuracy}\\n')\n",
        "        outf.write(f'{seed}\\t{i}\\t{j}\\t{ber}\\t{accuracy}\\n')"
      ]
    },
    {
      "cell_type": "markdown",
      "source": [
        "**Weight perturbation but normalized c wrt PDF approximation**"
      ],
      "metadata": {
        "id": "dLfFXKw-87RJ"
      }
    },
    {
      "cell_type": "code",
      "source": [
        "depositivize = np.vectorize(lambda x : x - 1 if x > 127 else x)\n",
        "\n",
        "for seed in range(1):\n",
        "  np.random.seed(seed)\n",
        "  \n",
        "  #sweep indices\n",
        "  for i in range(0,256):\n",
        "    for j in range(0,256):\n",
        "      if i == j:\n",
        "        continue\n",
        "      \n",
        "      ber = 1e-2\n",
        "\n",
        "      print(f'Doing {seed}\\t{i}\\t{j}\\t{ber}')\n",
        "\n",
        "      #create confusion matrix\n",
        "\n",
        "      #divide ber by prob given by pdf approximation\n",
        "      ber = ber / (scipy.stats.norm(0,32).pdf(j))\n",
        "\n",
        "      #create confmat with new ber    \n",
        "      C = np.eye(256)\n",
        "      C[i][i] = 1-ber\n",
        "      C[i][j] = ber\n",
        "\n",
        "      weights_perturb = {}\n",
        "\n",
        "      #perturb weights under confmat error model\n",
        "      for layer_name in weights:\n",
        "        if 'conv' in layer_name:\n",
        "          weight_in_layer = weights[layer_name]\n",
        "\n",
        "          #perturb based on confusion matrix\n",
        "\n",
        "          weights_perturb[layer_name] = np.zeros_like(weights[layer_name])\n",
        "          for x in range(256):\n",
        "            perturb = np.random.choice(256, p=C[x], size=len(weights[layer_name]))\n",
        "            weights_perturb[layer_name] += np.where(weights[layer_name] == (x-127), 1, 0) * perturb\n",
        "\n",
        "          #scale back to weight value\n",
        "          weights_perturb[layer_name] = depositivize(weights_perturb[layer_name] - 127)\n",
        "\n",
        "      #load relaxed weights back into model\n",
        "      for layer_name in weights_perturb:\n",
        "        name_arr = layer_name.split('.')\n",
        "        if name_arr[1] is \" \" or name_arr[1] is \"\":\n",
        "          name_arr[1] = \"\"\n",
        "        else:\n",
        "          name_arr[1] = \"[\" + name_arr[1] + \"].\"\n",
        "\n",
        "        if layer_name == \"..conv1\":\n",
        "          layer_name_p = \"conv1.weight\"\n",
        "        else:\n",
        "          layer_name_p = layer_name + \".weight\"\n",
        "\n",
        "        tmp = model.state_dict()[layer_name_p]\n",
        "        scales = tmp.q_per_channel_scales()\n",
        "        zero_pts = tmp.q_per_channel_zero_points()\n",
        "        axis = tmp.q_per_channel_axis()\n",
        "\n",
        "        new_w = torch._make_per_channel_quantized_tensor(torch.from_numpy(weights_perturb[layer_name]), scales, zero_pts, axis)\n",
        "        \n",
        "        setattr(model, str(str(name_arr[0] + name_arr[1] + name_arr[2]) + \"weight\"), new_w)\n",
        "\n",
        "      #evaluate accuracy after relaxation\n",
        "      accuracy = test(model,testloader,cuda=False)\n",
        "\n",
        "      with open('char_normc_pdf_approx.tsv', 'a') as outf:\n",
        "        print(f'{seed}\\t{i}\\t{j}\\t{ber}\\t{accuracy}\\n')\n",
        "        outf.write(f'{seed}\\t{i}\\t{j}\\t{ber}\\t{accuracy}\\n')"
      ],
      "metadata": {
        "id": "Vj1nprSItUxw"
      },
      "execution_count": null,
      "outputs": []
    }
  ],
  "metadata": {
    "accelerator": "GPU",
    "colab": {
      "collapsed_sections": [],
      "machine_shape": "hm",
      "name": "resnet18_cifar10.ipynb",
      "provenance": [],
      "include_colab_link": true
    },
    "gpuClass": "standard",
    "kernelspec": {
      "display_name": "Python 3",
      "name": "python3"
    },
    "language_info": {
      "name": "python"
    },
    "widgets": {
      "application/vnd.jupyter.widget-state+json": {
        "2858e963ea25467ca961b8c6f3a6590d": {
          "model_module": "@jupyter-widgets/controls",
          "model_name": "HBoxModel",
          "model_module_version": "1.5.0",
          "state": {
            "_dom_classes": [],
            "_model_module": "@jupyter-widgets/controls",
            "_model_module_version": "1.5.0",
            "_model_name": "HBoxModel",
            "_view_count": null,
            "_view_module": "@jupyter-widgets/controls",
            "_view_module_version": "1.5.0",
            "_view_name": "HBoxView",
            "box_style": "",
            "children": [
              "IPY_MODEL_994ddccb10fb450dbd89222b6be68725",
              "IPY_MODEL_21df95b1fb464b7d86014e6def00259a",
              "IPY_MODEL_f7c874ead2c84024a3dfb7adb996b041"
            ],
            "layout": "IPY_MODEL_4d45d791982642318ba62a0e66b24ba2"
          }
        },
        "994ddccb10fb450dbd89222b6be68725": {
          "model_module": "@jupyter-widgets/controls",
          "model_name": "HTMLModel",
          "model_module_version": "1.5.0",
          "state": {
            "_dom_classes": [],
            "_model_module": "@jupyter-widgets/controls",
            "_model_module_version": "1.5.0",
            "_model_name": "HTMLModel",
            "_view_count": null,
            "_view_module": "@jupyter-widgets/controls",
            "_view_module_version": "1.5.0",
            "_view_name": "HTMLView",
            "description": "",
            "description_tooltip": null,
            "layout": "IPY_MODEL_1b7a94d8e1ab4dc19fe39f67fd355ce9",
            "placeholder": "​",
            "style": "IPY_MODEL_d8075a4f16ce40e38ff62c42126e0f35",
            "value": "100%"
          }
        },
        "21df95b1fb464b7d86014e6def00259a": {
          "model_module": "@jupyter-widgets/controls",
          "model_name": "FloatProgressModel",
          "model_module_version": "1.5.0",
          "state": {
            "_dom_classes": [],
            "_model_module": "@jupyter-widgets/controls",
            "_model_module_version": "1.5.0",
            "_model_name": "FloatProgressModel",
            "_view_count": null,
            "_view_module": "@jupyter-widgets/controls",
            "_view_module_version": "1.5.0",
            "_view_name": "ProgressView",
            "bar_style": "success",
            "description": "",
            "description_tooltip": null,
            "layout": "IPY_MODEL_e78df50b3d024f588da3466ab457dc98",
            "max": 170498071,
            "min": 0,
            "orientation": "horizontal",
            "style": "IPY_MODEL_93b769b0ee8546a5bbaca76de642fbe6",
            "value": 170498071
          }
        },
        "f7c874ead2c84024a3dfb7adb996b041": {
          "model_module": "@jupyter-widgets/controls",
          "model_name": "HTMLModel",
          "model_module_version": "1.5.0",
          "state": {
            "_dom_classes": [],
            "_model_module": "@jupyter-widgets/controls",
            "_model_module_version": "1.5.0",
            "_model_name": "HTMLModel",
            "_view_count": null,
            "_view_module": "@jupyter-widgets/controls",
            "_view_module_version": "1.5.0",
            "_view_name": "HTMLView",
            "description": "",
            "description_tooltip": null,
            "layout": "IPY_MODEL_c1a9d58ffd054fbaa299d39dde4b114d",
            "placeholder": "​",
            "style": "IPY_MODEL_0c4e2778cbd24b21b38ee37fc94ac805",
            "value": " 170498071/170498071 [00:10&lt;00:00, 17682575.60it/s]"
          }
        },
        "4d45d791982642318ba62a0e66b24ba2": {
          "model_module": "@jupyter-widgets/base",
          "model_name": "LayoutModel",
          "model_module_version": "1.2.0",
          "state": {
            "_model_module": "@jupyter-widgets/base",
            "_model_module_version": "1.2.0",
            "_model_name": "LayoutModel",
            "_view_count": null,
            "_view_module": "@jupyter-widgets/base",
            "_view_module_version": "1.2.0",
            "_view_name": "LayoutView",
            "align_content": null,
            "align_items": null,
            "align_self": null,
            "border": null,
            "bottom": null,
            "display": null,
            "flex": null,
            "flex_flow": null,
            "grid_area": null,
            "grid_auto_columns": null,
            "grid_auto_flow": null,
            "grid_auto_rows": null,
            "grid_column": null,
            "grid_gap": null,
            "grid_row": null,
            "grid_template_areas": null,
            "grid_template_columns": null,
            "grid_template_rows": null,
            "height": null,
            "justify_content": null,
            "justify_items": null,
            "left": null,
            "margin": null,
            "max_height": null,
            "max_width": null,
            "min_height": null,
            "min_width": null,
            "object_fit": null,
            "object_position": null,
            "order": null,
            "overflow": null,
            "overflow_x": null,
            "overflow_y": null,
            "padding": null,
            "right": null,
            "top": null,
            "visibility": null,
            "width": null
          }
        },
        "1b7a94d8e1ab4dc19fe39f67fd355ce9": {
          "model_module": "@jupyter-widgets/base",
          "model_name": "LayoutModel",
          "model_module_version": "1.2.0",
          "state": {
            "_model_module": "@jupyter-widgets/base",
            "_model_module_version": "1.2.0",
            "_model_name": "LayoutModel",
            "_view_count": null,
            "_view_module": "@jupyter-widgets/base",
            "_view_module_version": "1.2.0",
            "_view_name": "LayoutView",
            "align_content": null,
            "align_items": null,
            "align_self": null,
            "border": null,
            "bottom": null,
            "display": null,
            "flex": null,
            "flex_flow": null,
            "grid_area": null,
            "grid_auto_columns": null,
            "grid_auto_flow": null,
            "grid_auto_rows": null,
            "grid_column": null,
            "grid_gap": null,
            "grid_row": null,
            "grid_template_areas": null,
            "grid_template_columns": null,
            "grid_template_rows": null,
            "height": null,
            "justify_content": null,
            "justify_items": null,
            "left": null,
            "margin": null,
            "max_height": null,
            "max_width": null,
            "min_height": null,
            "min_width": null,
            "object_fit": null,
            "object_position": null,
            "order": null,
            "overflow": null,
            "overflow_x": null,
            "overflow_y": null,
            "padding": null,
            "right": null,
            "top": null,
            "visibility": null,
            "width": null
          }
        },
        "d8075a4f16ce40e38ff62c42126e0f35": {
          "model_module": "@jupyter-widgets/controls",
          "model_name": "DescriptionStyleModel",
          "model_module_version": "1.5.0",
          "state": {
            "_model_module": "@jupyter-widgets/controls",
            "_model_module_version": "1.5.0",
            "_model_name": "DescriptionStyleModel",
            "_view_count": null,
            "_view_module": "@jupyter-widgets/base",
            "_view_module_version": "1.2.0",
            "_view_name": "StyleView",
            "description_width": ""
          }
        },
        "e78df50b3d024f588da3466ab457dc98": {
          "model_module": "@jupyter-widgets/base",
          "model_name": "LayoutModel",
          "model_module_version": "1.2.0",
          "state": {
            "_model_module": "@jupyter-widgets/base",
            "_model_module_version": "1.2.0",
            "_model_name": "LayoutModel",
            "_view_count": null,
            "_view_module": "@jupyter-widgets/base",
            "_view_module_version": "1.2.0",
            "_view_name": "LayoutView",
            "align_content": null,
            "align_items": null,
            "align_self": null,
            "border": null,
            "bottom": null,
            "display": null,
            "flex": null,
            "flex_flow": null,
            "grid_area": null,
            "grid_auto_columns": null,
            "grid_auto_flow": null,
            "grid_auto_rows": null,
            "grid_column": null,
            "grid_gap": null,
            "grid_row": null,
            "grid_template_areas": null,
            "grid_template_columns": null,
            "grid_template_rows": null,
            "height": null,
            "justify_content": null,
            "justify_items": null,
            "left": null,
            "margin": null,
            "max_height": null,
            "max_width": null,
            "min_height": null,
            "min_width": null,
            "object_fit": null,
            "object_position": null,
            "order": null,
            "overflow": null,
            "overflow_x": null,
            "overflow_y": null,
            "padding": null,
            "right": null,
            "top": null,
            "visibility": null,
            "width": null
          }
        },
        "93b769b0ee8546a5bbaca76de642fbe6": {
          "model_module": "@jupyter-widgets/controls",
          "model_name": "ProgressStyleModel",
          "model_module_version": "1.5.0",
          "state": {
            "_model_module": "@jupyter-widgets/controls",
            "_model_module_version": "1.5.0",
            "_model_name": "ProgressStyleModel",
            "_view_count": null,
            "_view_module": "@jupyter-widgets/base",
            "_view_module_version": "1.2.0",
            "_view_name": "StyleView",
            "bar_color": null,
            "description_width": ""
          }
        },
        "c1a9d58ffd054fbaa299d39dde4b114d": {
          "model_module": "@jupyter-widgets/base",
          "model_name": "LayoutModel",
          "model_module_version": "1.2.0",
          "state": {
            "_model_module": "@jupyter-widgets/base",
            "_model_module_version": "1.2.0",
            "_model_name": "LayoutModel",
            "_view_count": null,
            "_view_module": "@jupyter-widgets/base",
            "_view_module_version": "1.2.0",
            "_view_name": "LayoutView",
            "align_content": null,
            "align_items": null,
            "align_self": null,
            "border": null,
            "bottom": null,
            "display": null,
            "flex": null,
            "flex_flow": null,
            "grid_area": null,
            "grid_auto_columns": null,
            "grid_auto_flow": null,
            "grid_auto_rows": null,
            "grid_column": null,
            "grid_gap": null,
            "grid_row": null,
            "grid_template_areas": null,
            "grid_template_columns": null,
            "grid_template_rows": null,
            "height": null,
            "justify_content": null,
            "justify_items": null,
            "left": null,
            "margin": null,
            "max_height": null,
            "max_width": null,
            "min_height": null,
            "min_width": null,
            "object_fit": null,
            "object_position": null,
            "order": null,
            "overflow": null,
            "overflow_x": null,
            "overflow_y": null,
            "padding": null,
            "right": null,
            "top": null,
            "visibility": null,
            "width": null
          }
        },
        "0c4e2778cbd24b21b38ee37fc94ac805": {
          "model_module": "@jupyter-widgets/controls",
          "model_name": "DescriptionStyleModel",
          "model_module_version": "1.5.0",
          "state": {
            "_model_module": "@jupyter-widgets/controls",
            "_model_module_version": "1.5.0",
            "_model_name": "DescriptionStyleModel",
            "_view_count": null,
            "_view_module": "@jupyter-widgets/base",
            "_view_module_version": "1.2.0",
            "_view_name": "StyleView",
            "description_width": ""
          }
        }
      }
    }
  },
  "nbformat": 4,
  "nbformat_minor": 0
}